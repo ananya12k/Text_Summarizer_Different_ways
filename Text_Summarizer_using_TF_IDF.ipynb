{
 "cells": [
  {
   "cell_type": "markdown",
   "metadata": {},
   "source": [
    "# Statistical and Heuristic Approach (Pre 2000s)\n",
    "\n",
    "This notebook shows detailed steps of Term Frequency-Inverse Document Frequency (TF-IDF) to identify most important words and sentences in a document. Sentences are ranked based on the sum of TF-IDF values of words in the sentence. Sentences with higher sum of TF-IDF values are considered more important and are extracted as summary of the document.\n",
    "\n",
    "The notebook is organized as follows:\n",
    "1. Load and Preprocess Data\n",
    "2. Compute TF-IDF\n",
    "3. Extract Summary\n",
    "\n",
    "Note that, we’re implementing the actual algorithm here, not using any library to do the most of the tasks, we’re highly relying on the Math only.\n",
    "\n",
    "The notebook is based on the following resources:\n",
    "- [Text Summarization using TF-IDF](https://towardsdatascience.com/tf-idf-for-document-summary-7c7f91b3bb0c)\n",
    "\n",
    "The notebook uses the following libraries:\n",
    "- [NLTK](https://www.nltk.org/): Natural Language Toolkit\n",
    "- [Pandas](https://pandas.pydata.org/): Data Analysis Library\n",
    "- [Numpy](https://numpy.org/): Scientific Computing Library`\n",
    "\n",
    "## Term Frequency\n",
    "Term Frequency (TF) is a measure of how frequently a term occurs in a document. It is calculated as the number of times a term appears in a document divided by the total number of terms in the document.\n",
    "\n",
    "$$TF(t) = \\frac{Number\\ of\\ times\\ term\\ t\\ appears\\ in\\ a\\ document}{Total\\ number\\ of\\ terms\\ in\\ the\\ document}$$\n",
    "\n",
    "## Inverse Document Frequency\n",
    "Inverse Document Frequency (IDF) is a measure of how important a term is. It is calculated as the logarithm of the total number of documents divided by the number of documents containing the term.\n",
    "\n",
    "$$IDF(t) = \\log\\left(\\frac{Total\\ number\\ of\\ documents}{Number\\ of\\ documents\\ with\\ term\\ t\\ in\\ it}\\right)$$\n",
    "\n",
    "## TF-IDF\n",
    "Term Frequency-Inverse Document Frequency (TF-IDF) is the product of TF and IDF. It is used to identify the importance of a term in a document relative to a collection of documents.\n",
    "\n",
    "$$TF-IDF(t) = TF(t) \\times IDF(t)$$\n",
    "\n",
    "## Evaluation whether it is overfitting or not\n",
    "- The algorithm is evaluated on the provided test data.\n",
    "- The algorithm is evaluated based on the following metrics:\n",
    "    - ROUGE-1\n",
    "    - ROUGE-2\n",
    "    - ROUGE-L\n",
    "\n",
    "### Rouge-1\n",
    "ROUGE-1 refers to the overlap of unigrams between the system and reference summaries.\n",
    "\n",
    "\n",
    "### Rouge-2\n",
    "ROUGE-2 refers to the overlap of bigrams between the system and reference summaries.\n",
    "\n",
    "### Rouge-L\n",
    "ROUGE-L is based on the longest common subsequence (LCS). One advantage of using LCS is that it does not require consecutive matches but in-sequence matches.\n",
    "\n",
    "### Overfitting\n",
    "The algorithm is considered overfitting if the ROUGE scores are significantly higher on the training data compared to the test data.\n",
    "\n",
    "#### Example\n",
    "Consider the following example:\n",
    "Consider a document containing 100 words wherein the word 'cat' appears 3 times. The term frequency (TF) for 'cat' is then (3 / 100) = 0.03. \n",
    "\n",
    "Now, assume we have 10 million documents and the word 'cat' appears in one thousand of these. Then, the inverse document frequency (IDF) is calculated as log(10,000,000 / 1,000) = 4. Thus, the TF-IDF weight is the product of these quantities: 0.03 * 4 = 0.12.\n",
    "\n",
    "##### Note\n",
    "The notebook has comments at each step to make it easier to understand the implementation. Each step is explained in detail to make it easier to understand the implementation."
   ]
  },
  {
   "cell_type": "code",
   "execution_count": 1,
   "metadata": {},
   "outputs": [
    {
     "name": "stderr",
     "output_type": "stream",
     "text": [
      "WARNING: Ignoring invalid distribution ~andas (C:\\Users\\anany\\AppData\\Local\\Programs\\Python\\Python311\\Lib\\site-packages)\n",
      "WARNING: Ignoring invalid distribution ~andas (C:\\Users\\anany\\AppData\\Local\\Programs\\Python\\Python311\\Lib\\site-packages)\n",
      "WARNING: Ignoring invalid distribution ~andas (C:\\Users\\anany\\AppData\\Local\\Programs\\Python\\Python311\\Lib\\site-packages)\n"
     ]
    },
    {
     "name": "stdout",
     "output_type": "stream",
     "text": [
      "Requirement already satisfied: nltk in c:\\users\\anany\\appdata\\local\\programs\\python\\python311\\lib\\site-packages (3.8.1)\n",
      "Requirement already satisfied: click in c:\\users\\anany\\appdata\\local\\programs\\python\\python311\\lib\\site-packages (from nltk) (8.1.7)\n",
      "Requirement already satisfied: joblib in c:\\users\\anany\\appdata\\local\\programs\\python\\python311\\lib\\site-packages (from nltk) (1.3.2)\n",
      "Requirement already satisfied: regex>=2021.8.3 in c:\\users\\anany\\appdata\\local\\programs\\python\\python311\\lib\\site-packages (from nltk) (2023.10.3)\n",
      "Requirement already satisfied: tqdm in c:\\users\\anany\\appdata\\local\\programs\\python\\python311\\lib\\site-packages (from nltk) (4.66.1)\n",
      "Requirement already satisfied: colorama in c:\\users\\anany\\appdata\\local\\programs\\python\\python311\\lib\\site-packages (from click->nltk) (0.4.6)\n",
      "Requirement already satisfied: numpy in c:\\users\\anany\\appdata\\local\\programs\\python\\python311\\lib\\site-packages (1.26.2)\n"
     ]
    },
    {
     "name": "stderr",
     "output_type": "stream",
     "text": [
      "WARNING: Ignoring invalid distribution ~andas (C:\\Users\\anany\\AppData\\Local\\Programs\\Python\\Python311\\Lib\\site-packages)\n",
      "WARNING: Ignoring invalid distribution ~andas (C:\\Users\\anany\\AppData\\Local\\Programs\\Python\\Python311\\Lib\\site-packages)\n",
      "WARNING: Ignoring invalid distribution ~andas (C:\\Users\\anany\\AppData\\Local\\Programs\\Python\\Python311\\Lib\\site-packages)\n"
     ]
    },
    {
     "name": "stdout",
     "output_type": "stream",
     "text": [
      "Requirement already satisfied: pandas in c:\\users\\anany\\appdata\\local\\programs\\python\\python311\\lib\\site-packages (2.1.4)\n",
      "Requirement already satisfied: numpy<2,>=1.23.2 in c:\\users\\anany\\appdata\\local\\programs\\python\\python311\\lib\\site-packages (from pandas) (1.26.2)\n",
      "Requirement already satisfied: python-dateutil>=2.8.2 in c:\\users\\anany\\appdata\\local\\programs\\python\\python311\\lib\\site-packages (from pandas) (2.8.2)\n",
      "Requirement already satisfied: pytz>=2020.1 in c:\\users\\anany\\appdata\\local\\programs\\python\\python311\\lib\\site-packages (from pandas) (2023.3.post1)\n",
      "Requirement already satisfied: tzdata>=2022.1 in c:\\users\\anany\\appdata\\local\\programs\\python\\python311\\lib\\site-packages (from pandas) (2023.3)\n",
      "Requirement already satisfied: six>=1.5 in c:\\users\\anany\\appdata\\local\\programs\\python\\python311\\lib\\site-packages (from python-dateutil>=2.8.2->pandas) (1.16.0)\n"
     ]
    },
    {
     "name": "stderr",
     "output_type": "stream",
     "text": [
      "WARNING: Ignoring invalid distribution ~andas (C:\\Users\\anany\\AppData\\Local\\Programs\\Python\\Python311\\Lib\\site-packages)\n",
      "WARNING: Ignoring invalid distribution ~andas (C:\\Users\\anany\\AppData\\Local\\Programs\\Python\\Python311\\Lib\\site-packages)\n",
      "WARNING: Ignoring invalid distribution ~andas (C:\\Users\\anany\\AppData\\Local\\Programs\\Python\\Python311\\Lib\\site-packages)\n"
     ]
    }
   ],
   "source": [
    "!pip3 install nltk\n",
    "!pip3 install numpy\n",
    "!pip3 install pandas"
   ]
  },
  {
   "cell_type": "code",
   "execution_count": 2,
   "metadata": {},
   "outputs": [],
   "source": [
    "import math\n",
    "import nltk\n",
    "from nltk import word_tokenize,sent_tokenize, PorterStemmer\n",
    "from nltk.corpus import stopwords, wordnet\n",
    "from nltk import pos_tag\n",
    "from nltk.stem import WordNetLemmatizer\n",
    "import numpy as np\n",
    "from collections import defaultdict"
   ]
  },
  {
   "cell_type": "code",
   "execution_count": 3,
   "metadata": {},
   "outputs": [
    {
     "name": "stderr",
     "output_type": "stream",
     "text": [
      "[nltk_data] Downloading package punkt to\n",
      "[nltk_data]     C:\\Users\\anany\\AppData\\Roaming\\nltk_data...\n",
      "[nltk_data]   Package punkt is already up-to-date!\n",
      "[nltk_data] Downloading package stopwords to\n",
      "[nltk_data]     C:\\Users\\anany\\AppData\\Roaming\\nltk_data...\n",
      "[nltk_data]   Package stopwords is already up-to-date!\n"
     ]
    },
    {
     "data": {
      "text/plain": [
       "True"
      ]
     },
     "execution_count": 3,
     "metadata": {},
     "output_type": "execute_result"
    }
   ],
   "source": [
    "# Download necessary NLTK data (only needed once)\n",
    "nltk.download('punkt')\n",
    "nltk.download('stopwords')"
   ]
  },
  {
   "cell_type": "code",
   "execution_count": 4,
   "metadata": {},
   "outputs": [],
   "source": [
    "text=\"Modern economics does not differentiate between renewable and non-renewable materials, as its method is to measure everything by means of a money price. Thus, taking various alternate fuels, like coal, oil, wood or water power, the only difference between them recognised by modern economics is relative cost per equivalent unit. The cheapest is automatically the one to be preferred, as to do otherwise would be irrational and uneconomic. From a Buddhist point of view, of course, this will not do; the essential difference between non-renewable fuelslike coal and oil on the one hand and renewable fuels like wood and water-power on the other cannot be simply overlooked. Non-renewable goods must be used only if they are indispensable, and then only with the greatest care and the highest concern for conservation. To use them carelessly or extravagantly is an act of violence, and while complete non-violence may not be possible on this earth, it is nonetheless the duty of man to aim the ideal of non-violence in all he does.\""
   ]
  },
  {
   "cell_type": "code",
   "execution_count": 5,
   "metadata": {},
   "outputs": [],
   "source": [
    "def _get_wordnet_pos(word):\n",
    "    \"\"\"Map POS tag to first character lemmatize() accepts.\"\"\"\n",
    "    \n",
    "    # Get the part of speech (POS) tag for the word\n",
    "    tag = pos_tag([word])[0][1][0].upper()\n",
    "    \n",
    "    # Create a dictionary to map the POS tag to a format that WordNetLemmatizer accepts\n",
    "    tag_dict = {\"J\": wordnet.ADJ,   # J is mapped to adjective\n",
    "                \"N\": wordnet.NOUN,  # N is mapped to noun\n",
    "                \"V\": wordnet.VERB,  # V is mapped to verb\n",
    "                \"R\": wordnet.ADV,   # R is mapped to adverb\n",
    "                \"S\": wordnet.ADJ_SAT # S is mapped to adjective satellite (similar to adjective)\n",
    "                }\n",
    "                \n",
    "    # Return the mapped POS tag or default to NOUN if the tag isn't in the dictionary\n",
    "    return tag_dict.get(tag, wordnet.NOUN)"
   ]
  },
  {
   "cell_type": "code",
   "execution_count": 6,
   "metadata": {},
   "outputs": [],
   "source": [
    "def _create_frequency_matrix(sentences):\n",
    "    \"\"\"Create a frequency matrix for the given sentences.\"\"\"\n",
    " \n",
    "    frequency_matrix = {}\n",
    "    stopWords = set(stopwords.words(\"english\"))\n",
    "    lemmatizer = WordNetLemmatizer()\n",
    "\n",
    "    for sent in sentences:\n",
    "        freq_table = {}\n",
    "        words = word_tokenize(sent)\n",
    "        \n",
    "        for word in words:\n",
    "            word = word.lower()\n",
    "            word = lemmatizer.lemmatize(word, _get_wordnet_pos(word))\n",
    "            if word in stopWords:\n",
    "                continue\n",
    "\n",
    "            if word in freq_table:\n",
    "                freq_table[word] += 1\n",
    "            else:\n",
    "                freq_table[word] = 1\n",
    "\n",
    "        # Use the full sentence as the key instead of truncating it\n",
    "        frequency_matrix[sent] = freq_table\n",
    "\n",
    "    return frequency_matrix\n"
   ]
  },
  {
   "cell_type": "code",
   "execution_count": 7,
   "metadata": {},
   "outputs": [],
   "source": [
    "def _create_tf_matrix(freq_matrix):\n",
    "    \"\"\"Create a Term Frequency (TF) matrix from the frequency matrix.\"\"\"\n",
    "    tf_matrix = {}\n",
    "\n",
    "    # Loop through each sentence's frequency table\n",
    "    for sent, freq_table in freq_matrix.items():\n",
    "        tf_table = {}\n",
    "\n",
    "        # Get the total number of words in the sentence\n",
    "        word_count_in_sentence = len(freq_table)\n",
    "\n",
    "        # Loop through each word's frequency in the sentence\n",
    "        for word, count in freq_table.items():\n",
    "            # Calculate term frequency (TF) by dividing the word's count by the total number of words\n",
    "            tf_table[word] = count / float(word_count_in_sentence)\n",
    "\n",
    "        # Store the TF table in the TF matrix\n",
    "        tf_matrix[sent] = tf_table\n",
    "    print(\"TF Matrix:\", tf_matrix)  # Debugging line\n",
    "    return tf_matrix"
   ]
  },
  {
   "cell_type": "code",
   "execution_count": 8,
   "metadata": {},
   "outputs": [],
   "source": [
    "def _create_idf_matrix(freq_matrix):\n",
    "    \"\"\"Create an Inverse Document Frequency (IDF) matrix from the frequency matrix.\"\"\"\n",
    "    idf_matrix = {}\n",
    "    total_documents = len(freq_matrix)\n",
    "\n",
    "    # Initialize an empty dictionary to count the number of documents containing each word\n",
    "    word_document_counts = {}\n",
    "\n",
    "    # Loop through each sentence's frequency table\n",
    "    for freq_table in freq_matrix.values():\n",
    "        for word in freq_table.keys():\n",
    "            if word in word_document_counts:\n",
    "                word_document_counts[word] += 1\n",
    "            else:\n",
    "                word_document_counts[word] = 1\n",
    "\n",
    "    # Calculate IDF for each word\n",
    "    for word, count in word_document_counts.items():\n",
    "        idf_matrix[word] = math.log10(total_documents / float(count))\n",
    "    print(\"IDF Matrix:\", idf_matrix)  # Debugging line\n",
    "    return idf_matrix\n"
   ]
  },
  {
   "cell_type": "code",
   "execution_count": 9,
   "metadata": {},
   "outputs": [],
   "source": [
    "def _create_tf_idf_matrix(tf_matrix, idf_matrix):\n",
    "    \"\"\"Create a TF-IDF matrix from the TF and IDF matrices.\"\"\"\n",
    "    tf_idf_matrix = {}\n",
    "\n",
    "    # Loop through each sentence's TF table\n",
    "    for sent, tf_table in tf_matrix.items():\n",
    "        tf_idf_table = {}\n",
    "\n",
    "        # Loop through each word's TF value and multiply by its IDF value\n",
    "        for word, tf_value in tf_table.items():\n",
    "            tf_idf_table[word] = tf_value * idf_matrix.get(word, 0)\n",
    "\n",
    "        # Store the TF-IDF table in the TF-IDF matrix\n",
    "        tf_idf_matrix[sent] = tf_idf_table\n",
    "    print(\"TF-IDF Matrix:\", tf_idf_matrix)  # Debugging line\n",
    "    return tf_idf_matrix"
   ]
  },
  {
   "cell_type": "code",
   "execution_count": 10,
   "metadata": {},
   "outputs": [],
   "source": [
    "def _score_sentences(tf_idf_matrix):\n",
    "    \"\"\"Score each sentence based on its TF-IDF values.\"\"\"\n",
    "    sentence_scores = {}\n",
    "\n",
    "    # Loop through each sentence's TF-IDF table\n",
    "    for sent, tf_idf_table in tf_idf_matrix.items():\n",
    "        # Sum the TF-IDF scores for each word in the sentence\n",
    "        sentence_scores[sent] = sum(tf_idf_table.values())\n",
    "    print(\"Sentence Scores:\", sentence_scores)  # Debugging line\n",
    "    return sentence_scores"
   ]
  },
  {
   "cell_type": "code",
   "execution_count": 11,
   "metadata": {},
   "outputs": [],
   "source": [
    "def _generate_summary(sentences, sentence_scores, summary_length=3):\n",
    "    \"\"\"Generate a summary by selecting the top sentences based on their scores.\"\"\"\n",
    "    # Create a dictionary mapping sentence text to its index\n",
    "    sentence_index_map = {sent: idx for idx, sent in enumerate(sentences)}\n",
    "    \n",
    "    # Sort sentences by their scores in descending order\n",
    "    sorted_sentences = sorted(sentence_scores.items(), key=lambda x: x[1], reverse=True)\n",
    "\n",
    "    # Select the top N sentences for the summary\n",
    "    top_sentences = sorted_sentences[:summary_length]\n",
    "\n",
    "    # Ensure the sentences are correctly matched\n",
    "    top_sentences_text = {sent[0] for sent in top_sentences}\n",
    "\n",
    "    # Get the indices of the top sentences from the original list\n",
    "    top_sentence_indices = [sentence_index_map[sent] for sent in sentences if sent in top_sentences_text]\n",
    "\n",
    "    # Reorder the sentences based on their indices\n",
    "    summary = [sentences[idx] for idx in sorted(top_sentence_indices)]\n",
    "\n",
    "    return ' '.join(summary)\n"
   ]
  },
  {
   "cell_type": "code",
   "execution_count": 12,
   "metadata": {},
   "outputs": [],
   "source": [
    "def summarize_text(text, summary_length=3):\n",
    "    \"\"\"Summarize the input text by selecting the top N sentences based on TF-IDF scores.\"\"\"\n",
    "    # Split text into sentences\n",
    "    sentences = sent_tokenize(text)\n",
    "    \n",
    "    # Create frequency matrix\n",
    "    freq_matrix = _create_frequency_matrix(sentences)\n",
    "    \n",
    "    # Calculate TF matrix\n",
    "    tf_matrix = _create_tf_matrix(freq_matrix)\n",
    "    \n",
    "    # Calculate IDF matrix\n",
    "    idf_matrix = _create_idf_matrix(freq_matrix)\n",
    "    \n",
    "    # Calculate TF-IDF matrix\n",
    "    tf_idf_matrix = _create_tf_idf_matrix(tf_matrix, idf_matrix)\n",
    "    \n",
    "    # Score sentences\n",
    "    sentence_scores = _score_sentences(tf_idf_matrix)\n",
    "    \n",
    "    # Generate summary\n",
    "    summary = _generate_summary(sentences, sentence_scores, summary_length)\n",
    "    \n",
    "    return summary\n"
   ]
  },
  {
   "cell_type": "code",
   "execution_count": 14,
   "metadata": {},
   "outputs": [
    {
     "name": "stdout",
     "output_type": "stream",
     "text": [
      "TF Matrix: {'Modern economics does not differentiate between renewable and non-renewable materials, as its method is to measure everything by means of a money price.': {'modern': 0.07142857142857142, 'economics': 0.07142857142857142, 'differentiate': 0.07142857142857142, 'renewable': 0.07142857142857142, 'non-renewable': 0.07142857142857142, 'material': 0.07142857142857142, ',': 0.07142857142857142, 'method': 0.07142857142857142, 'measure': 0.07142857142857142, 'everything': 0.07142857142857142, 'mean': 0.07142857142857142, 'money': 0.07142857142857142, 'price': 0.07142857142857142, '.': 0.07142857142857142}, 'Thus, taking various alternate fuels, like coal, oil, wood or water power, the only difference between them recognised by modern economics is relative cost per equivalent unit.': {'thus': 0.045454545454545456, ',': 0.22727272727272727, 'take': 0.045454545454545456, 'various': 0.045454545454545456, 'alternate': 0.045454545454545456, 'fuel': 0.045454545454545456, 'like': 0.045454545454545456, 'coal': 0.045454545454545456, 'oil': 0.045454545454545456, 'wood': 0.045454545454545456, 'water': 0.045454545454545456, 'power': 0.045454545454545456, 'difference': 0.045454545454545456, 'recognise': 0.045454545454545456, 'modern': 0.045454545454545456, 'economics': 0.045454545454545456, 'relative': 0.045454545454545456, 'cost': 0.045454545454545456, 'per': 0.045454545454545456, 'equivalent': 0.045454545454545456, 'unit': 0.045454545454545456, '.': 0.045454545454545456}, 'The cheapest is automatically the one to be preferred, as to do otherwise would be irrational and uneconomic.': {'cheapest': 0.1, 'automatically': 0.1, 'one': 0.1, 'prefer': 0.1, ',': 0.1, 'otherwise': 0.1, 'would': 0.1, 'irrational': 0.1, 'uneconomic': 0.1, '.': 0.1}, 'From a Buddhist point of view, of course, this will not do; the essential difference between non-renewable fuelslike coal and oil on the one hand and renewable fuels like wood and water-power on the other cannot be simply overlooked.': {'buddhist': 0.045454545454545456, 'point': 0.045454545454545456, 'view': 0.045454545454545456, ',': 0.09090909090909091, 'course': 0.045454545454545456, ';': 0.045454545454545456, 'essential': 0.045454545454545456, 'difference': 0.045454545454545456, 'non-renewable': 0.045454545454545456, 'fuelslike': 0.045454545454545456, 'coal': 0.045454545454545456, 'oil': 0.045454545454545456, 'one': 0.045454545454545456, 'hand': 0.045454545454545456, 'renewable': 0.045454545454545456, 'fuel': 0.045454545454545456, 'like': 0.045454545454545456, 'wood': 0.045454545454545456, 'water-power': 0.045454545454545456, 'simply': 0.045454545454545456, 'overlook': 0.045454545454545456, '.': 0.045454545454545456}, 'Non-renewable goods must be used only if they are indispensable, and then only with the greatest care and the highest concern for conservation.': {'non-renewable': 0.08333333333333333, 'good': 0.08333333333333333, 'must': 0.08333333333333333, 'use': 0.08333333333333333, 'indispensable': 0.08333333333333333, ',': 0.08333333333333333, 'great': 0.08333333333333333, 'care': 0.08333333333333333, 'high': 0.08333333333333333, 'concern': 0.08333333333333333, 'conservation': 0.08333333333333333, '.': 0.08333333333333333}, 'To use them carelessly or extravagantly is an act of violence, and while complete non-violence may not be possible on this earth, it is nonetheless the duty of man to aim the ideal of non-violence in all he does.': {'use': 0.058823529411764705, 'carelessly': 0.058823529411764705, 'extravagantly': 0.058823529411764705, 'act': 0.058823529411764705, 'violence': 0.058823529411764705, ',': 0.11764705882352941, 'complete': 0.058823529411764705, 'non-violence': 0.11764705882352941, 'may': 0.058823529411764705, 'possible': 0.058823529411764705, 'earth': 0.058823529411764705, 'nonetheless': 0.058823529411764705, 'duty': 0.058823529411764705, 'man': 0.058823529411764705, 'aim': 0.058823529411764705, 'ideal': 0.058823529411764705, '.': 0.058823529411764705}}\n",
      "IDF Matrix: {'modern': 0.47712125471966244, 'economics': 0.47712125471966244, 'differentiate': 0.7781512503836436, 'renewable': 0.47712125471966244, 'non-renewable': 0.3010299956639812, 'material': 0.7781512503836436, ',': 0.0, 'method': 0.7781512503836436, 'measure': 0.7781512503836436, 'everything': 0.7781512503836436, 'mean': 0.7781512503836436, 'money': 0.7781512503836436, 'price': 0.7781512503836436, '.': 0.0, 'thus': 0.7781512503836436, 'take': 0.7781512503836436, 'various': 0.7781512503836436, 'alternate': 0.7781512503836436, 'fuel': 0.47712125471966244, 'like': 0.47712125471966244, 'coal': 0.47712125471966244, 'oil': 0.47712125471966244, 'wood': 0.47712125471966244, 'water': 0.7781512503836436, 'power': 0.7781512503836436, 'difference': 0.47712125471966244, 'recognise': 0.7781512503836436, 'relative': 0.7781512503836436, 'cost': 0.7781512503836436, 'per': 0.7781512503836436, 'equivalent': 0.7781512503836436, 'unit': 0.7781512503836436, 'cheapest': 0.7781512503836436, 'automatically': 0.7781512503836436, 'one': 0.47712125471966244, 'prefer': 0.7781512503836436, 'otherwise': 0.7781512503836436, 'would': 0.7781512503836436, 'irrational': 0.7781512503836436, 'uneconomic': 0.7781512503836436, 'buddhist': 0.7781512503836436, 'point': 0.7781512503836436, 'view': 0.7781512503836436, 'course': 0.7781512503836436, ';': 0.7781512503836436, 'essential': 0.7781512503836436, 'fuelslike': 0.7781512503836436, 'hand': 0.7781512503836436, 'water-power': 0.7781512503836436, 'simply': 0.7781512503836436, 'overlook': 0.7781512503836436, 'good': 0.7781512503836436, 'must': 0.7781512503836436, 'use': 0.47712125471966244, 'indispensable': 0.7781512503836436, 'great': 0.7781512503836436, 'care': 0.7781512503836436, 'high': 0.7781512503836436, 'concern': 0.7781512503836436, 'conservation': 0.7781512503836436, 'carelessly': 0.7781512503836436, 'extravagantly': 0.7781512503836436, 'act': 0.7781512503836436, 'violence': 0.7781512503836436, 'complete': 0.7781512503836436, 'non-violence': 0.7781512503836436, 'may': 0.7781512503836436, 'possible': 0.7781512503836436, 'earth': 0.7781512503836436, 'nonetheless': 0.7781512503836436, 'duty': 0.7781512503836436, 'man': 0.7781512503836436, 'aim': 0.7781512503836436, 'ideal': 0.7781512503836436}\n",
      "TF-IDF Matrix: {'Modern economics does not differentiate between renewable and non-renewable materials, as its method is to measure everything by means of a money price.': {'modern': 0.03408008962283303, 'economics': 0.03408008962283303, 'differentiate': 0.05558223217026026, 'renewable': 0.03408008962283303, 'non-renewable': 0.021502142547427227, 'material': 0.05558223217026026, ',': 0.0, 'method': 0.05558223217026026, 'measure': 0.05558223217026026, 'everything': 0.05558223217026026, 'mean': 0.05558223217026026, 'money': 0.05558223217026026, 'price': 0.05558223217026026, '.': 0.0}, 'Thus, taking various alternate fuels, like coal, oil, wood or water power, the only difference between them recognised by modern economics is relative cost per equivalent unit.': {'thus': 0.035370511381074714, ',': 0.0, 'take': 0.035370511381074714, 'various': 0.035370511381074714, 'alternate': 0.035370511381074714, 'fuel': 0.021687329759984657, 'like': 0.021687329759984657, 'coal': 0.021687329759984657, 'oil': 0.021687329759984657, 'wood': 0.021687329759984657, 'water': 0.035370511381074714, 'power': 0.035370511381074714, 'difference': 0.021687329759984657, 'recognise': 0.035370511381074714, 'modern': 0.021687329759984657, 'economics': 0.021687329759984657, 'relative': 0.035370511381074714, 'cost': 0.035370511381074714, 'per': 0.035370511381074714, 'equivalent': 0.035370511381074714, 'unit': 0.035370511381074714, '.': 0.0}, 'The cheapest is automatically the one to be preferred, as to do otherwise would be irrational and uneconomic.': {'cheapest': 0.07781512503836437, 'automatically': 0.07781512503836437, 'one': 0.047712125471966245, 'prefer': 0.07781512503836437, ',': 0.0, 'otherwise': 0.07781512503836437, 'would': 0.07781512503836437, 'irrational': 0.07781512503836437, 'uneconomic': 0.07781512503836437, '.': 0.0}, 'From a Buddhist point of view, of course, this will not do; the essential difference between non-renewable fuelslike coal and oil on the one hand and renewable fuels like wood and water-power on the other cannot be simply overlooked.': {'buddhist': 0.035370511381074714, 'point': 0.035370511381074714, 'view': 0.035370511381074714, ',': 0.0, 'course': 0.035370511381074714, ';': 0.035370511381074714, 'essential': 0.035370511381074714, 'difference': 0.021687329759984657, 'non-renewable': 0.013683181621090055, 'fuelslike': 0.035370511381074714, 'coal': 0.021687329759984657, 'oil': 0.021687329759984657, 'one': 0.021687329759984657, 'hand': 0.035370511381074714, 'renewable': 0.021687329759984657, 'fuel': 0.021687329759984657, 'like': 0.021687329759984657, 'wood': 0.021687329759984657, 'water-power': 0.035370511381074714, 'simply': 0.035370511381074714, 'overlook': 0.035370511381074714, '.': 0.0}, 'Non-renewable goods must be used only if they are indispensable, and then only with the greatest care and the highest concern for conservation.': {'non-renewable': 0.025085832971998432, 'good': 0.0648459375319703, 'must': 0.0648459375319703, 'use': 0.039760104559971865, 'indispensable': 0.0648459375319703, ',': 0.0, 'great': 0.0648459375319703, 'care': 0.0648459375319703, 'high': 0.0648459375319703, 'concern': 0.0648459375319703, 'conservation': 0.0648459375319703, '.': 0.0}, 'To use them carelessly or extravagantly is an act of violence, and while complete non-violence may not be possible on this earth, it is nonetheless the duty of man to aim the ideal of non-violence in all he does.': {'use': 0.028065956159980143, 'carelessly': 0.04577360296374374, 'extravagantly': 0.04577360296374374, 'act': 0.04577360296374374, 'violence': 0.04577360296374374, ',': 0.0, 'complete': 0.04577360296374374, 'non-violence': 0.09154720592748748, 'may': 0.04577360296374374, 'possible': 0.04577360296374374, 'earth': 0.04577360296374374, 'nonetheless': 0.04577360296374374, 'duty': 0.04577360296374374, 'man': 0.04577360296374374, 'aim': 0.04577360296374374, 'ideal': 0.04577360296374374, '.': 0.0}}\n",
      "Sentence Scores: {'Modern economics does not differentiate between renewable and non-renewable materials, as its method is to measure everything by means of a money price.': 0.5684002687780084, 'Thus, taking various alternate fuels, like coal, oil, wood or water power, the only difference between them recognised by modern economics is relative cost per equivalent unit.': 0.5979447746527738, 'The cheapest is automatically the one to be preferred, as to do otherwise would be irrational and uneconomic.': 0.5924180007405169, 'From a Buddhist point of view, of course, this will not do; the essential difference between non-renewable fuelslike coal and oil on the one hand and renewable fuels like wood and water-power on the other cannot be simply overlooked.': 0.5762574448927892, 'Non-renewable goods must be used only if they are indispensable, and then only with the greatest care and the highest concern for conservation.': 0.5836134377877328, 'To use them carelessly or extravagantly is an act of violence, and while complete non-violence may not be possible on this earth, it is nonetheless the duty of man to aim the ideal of non-violence in all he does.': 0.7146700006161364}\n",
      "Summary:\n",
      "Thus, taking various alternate fuels, like coal, oil, wood or water power, the only difference between them recognised by modern economics is relative cost per equivalent unit. The cheapest is automatically the one to be preferred, as to do otherwise would be irrational and uneconomic. To use them carelessly or extravagantly is an act of violence, and while complete non-violence may not be possible on this earth, it is nonetheless the duty of man to aim the ideal of non-violence in all he does.\n"
     ]
    }
   ],
   "source": [
    "summary = summarize_text(text, summary_length=3)\n",
    "print(\"Summary:\")\n",
    "print(summary)"
   ]
  },
  {
   "cell_type": "code",
   "execution_count": null,
   "metadata": {},
   "outputs": [],
   "source": []
  }
 ],
 "metadata": {
  "kernelspec": {
   "display_name": "Python 3",
   "language": "python",
   "name": "python3"
  },
  "language_info": {
   "codemirror_mode": {
    "name": "ipython",
    "version": 3
   },
   "file_extension": ".py",
   "mimetype": "text/x-python",
   "name": "python",
   "nbconvert_exporter": "python",
   "pygments_lexer": "ipython3",
   "version": "3.11.5"
  }
 },
 "nbformat": 4,
 "nbformat_minor": 2
}
